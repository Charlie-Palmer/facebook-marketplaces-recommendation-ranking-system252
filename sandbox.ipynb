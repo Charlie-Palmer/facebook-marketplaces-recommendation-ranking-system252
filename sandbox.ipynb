{
 "cells": [
  {
   "cell_type": "markdown",
   "metadata": {},
   "source": [
    "## M3\n",
    "# Task 1\n",
    "From clean_tabular_data.py we import the cleaner for product data\n",
    "removing any null values, and tidying the price column up by \n",
    "taking out the '£' and',' symbols, then converting the data type \n",
    "of that column to numeric."
   ]
  },
  {
   "cell_type": "code",
   "execution_count": 10,
   "metadata": {},
   "outputs": [],
   "source": [
    "from clean_tabular_data import clean_product_data\n",
    "import pandas as pd\n",
    "products_df = pd.read_csv('Products.csv', lineterminator='\\n')\n",
    "images_df = pd.read_csv('Images.csv', lineterminator='\\n')\n",
    "products_df = clean_product_data(products_df)\n",
    "products_df.to_csv('cleaned_products.csv', index=False)\n"
   ]
  },
  {
   "cell_type": "markdown",
   "metadata": {},
   "source": [
    "## M3\n",
    "# Task 2\n",
    "In this step we prepared a label dataset for training an image classification model\n",
    "From the category column in the cleaned Products.csv we extracted the root category.\n",
    "Then we created the encoder and decoder. \n",
    "Finally we merged the image data with the product data using product id to assign the\n",
    "correct label to each image, saving the merged dataset to a new training csv file\n",
    "containing just image id and label."
   ]
  },
  {
   "cell_type": "code",
   "execution_count": null,
   "metadata": {},
   "outputs": [],
   "source": [
    "#Extract the root category from the category column\n",
    "products_df['root_category'] = products_df['category'].apply(lambda x: x.split('/')[0].strip())\n",
    "#Create the encoder/decoder for the root categories\n",
    "unique_categories = sorted(products_df['root_category'].unique())\n",
    "encoder = {category: idx for idx, category in enumerate(unique_categories)}\n",
    "decoder = {idx: category for category, idx in encoder.items()}\n",
    "#Encode root categroy into a new column\n",
    "products_df['label'] = products_df['root_category'].map(encoder)\n",
    "#Merge images with products on product id\n",
    "merged_df = images_df.merge(products_df[['id', 'label']], left_on='product_id', right_on='id', how='left')\n",
    "#Clean and rename columns\n",
    "merged_df = merged_df[['id_x', 'label']]\n",
    "#Save to CSV\n",
    "merged_df.to_csv('training_data.csv')\n"
   ]
  },
  {
   "cell_type": "markdown",
   "metadata": {},
   "source": []
  },
  {
   "cell_type": "code",
   "execution_count": null,
   "metadata": {},
   "outputs": [],
   "source": []
  }
 ],
 "metadata": {
  "kernelspec": {
   "display_name": "base",
   "language": "python",
   "name": "python3"
  },
  "language_info": {
   "codemirror_mode": {
    "name": "ipython",
    "version": 3
   },
   "file_extension": ".py",
   "mimetype": "text/x-python",
   "name": "python",
   "nbconvert_exporter": "python",
   "pygments_lexer": "ipython3",
   "version": "3.11.5"
  }
 },
 "nbformat": 4,
 "nbformat_minor": 2
}
